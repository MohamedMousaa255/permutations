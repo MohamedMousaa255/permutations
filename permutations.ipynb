{
 "cells": [
  {
   "cell_type": "markdown",
   "id": "e63ca218",
   "metadata": {},
   "source": [
    "## assume that the 2 segment formed from list from 1 to 7"
   ]
  },
  {
   "cell_type": "code",
   "execution_count": 1,
   "id": "a22a583e",
   "metadata": {},
   "outputs": [],
   "source": [
    "import random\n",
    "list_=[1,2,3,4,5,6,7]"
   ]
  },
  {
   "cell_type": "markdown",
   "id": "efbb89f0",
   "metadata": {},
   "source": [
    "## intialize the segment 1 and sort it "
   ]
  },
  {
   "cell_type": "code",
   "execution_count": 2,
   "id": "445f247a",
   "metadata": {},
   "outputs": [],
   "source": [
    "segment1=random.sample(list_, 5)\n",
    "segment1.sort()"
   ]
  },
  {
   "cell_type": "markdown",
   "id": "396fc1b6",
   "metadata": {},
   "source": [
    "## intialize the segment 2 and sort it"
   ]
  },
  {
   "cell_type": "code",
   "execution_count": 5,
   "id": "547351c0",
   "metadata": {},
   "outputs": [],
   "source": [
    "segment2=random.sample(list_, 5)\n",
    "segment2.sort()"
   ]
  },
  {
   "cell_type": "markdown",
   "id": "bba78cc7",
   "metadata": {},
   "source": [
    "## quickly check if they are permutations"
   ]
  },
  {
   "cell_type": "code",
   "execution_count": 6,
   "id": "c5ad660c",
   "metadata": {},
   "outputs": [
    {
     "name": "stdout",
     "output_type": "stream",
     "text": [
      " not permutations\n"
     ]
    }
   ],
   "source": [
    "\n",
    "if segment1==segment2 :\n",
    "    print (\"permutations\")\n",
    "else:\n",
    "    print (\" not permutations\")"
   ]
  },
  {
   "cell_type": "markdown",
   "id": "4d936c91",
   "metadata": {},
   "source": [
    "## backtracking based recursive solution"
   ]
  },
  {
   "cell_type": "code",
   "execution_count": 20,
   "id": "9f8b6820",
   "metadata": {},
   "outputs": [
    {
     "data": {
      "text/plain": [
       "[['3', '4', '5'],\n",
       " ['3', '5', '4'],\n",
       " ['4', '3', '5'],\n",
       " ['4', '5', '3'],\n",
       " ['5', '3', '4'],\n",
       " ['5', '4', '3']]"
      ]
     },
     "execution_count": 20,
     "metadata": {},
     "output_type": "execute_result"
    }
   ],
   "source": [
    "def permutation(list_):\n",
    "    if len(list_) == 1:\n",
    "        return [list_]\n",
    "    if len(list_) == 0:\n",
    "        return []\n",
    "    l1 = [] \n",
    "    for i in range(len(list_)):\n",
    "        n = list_[i]\n",
    "        remLst = list_[:i] + list_[i+1:]\n",
    "        for p in permutation(remLst):\n",
    "            l1.append([n] + p)\n",
    "    return l1\n",
    "num = list('345')\n",
    "permutation(num)"
   ]
  },
  {
   "cell_type": "markdown",
   "id": "f08553cc",
   "metadata": {},
   "source": [
    "## divide the process into 3 processor to make it parallel assume that we have three processor "
   ]
  },
  {
   "cell_type": "code",
   "execution_count": 23,
   "id": "85bcb08c",
   "metadata": {},
   "outputs": [
    {
     "name": "stdout",
     "output_type": "stream",
     "text": [
      "processor 1\n",
      "['3', '4', '5']\n",
      "processor 1\n",
      "['3', '5', '4']\n",
      "processor 2\n",
      "['4', '3', '5']\n",
      "processor 2\n",
      "['4', '5', '3']\n",
      "processor 3\n",
      "['5', '3', '4']\n",
      "processor 3\n",
      "['5', '4', '3']\n"
     ]
    }
   ],
   "source": [
    "num = list('345')\n",
    "i=0\n",
    "for x in permutation(num):\n",
    "    i=i+1\n",
    "    if i <3:\n",
    "        print (\"processor 1\")\n",
    "    elif i<5:\n",
    "         print (\"processor 2\")\n",
    "    else:\n",
    "        print (\"processor 3\")\n",
    "    print (x)"
   ]
  },
  {
   "cell_type": "code",
   "execution_count": null,
   "id": "1ea9faea",
   "metadata": {},
   "outputs": [],
   "source": []
  }
 ],
 "metadata": {
  "kernelspec": {
   "display_name": "Python 3 (ipykernel)",
   "language": "python",
   "name": "python3"
  },
  "language_info": {
   "codemirror_mode": {
    "name": "ipython",
    "version": 3
   },
   "file_extension": ".py",
   "mimetype": "text/x-python",
   "name": "python",
   "nbconvert_exporter": "python",
   "pygments_lexer": "ipython3",
   "version": "3.9.12"
  }
 },
 "nbformat": 4,
 "nbformat_minor": 5
}
